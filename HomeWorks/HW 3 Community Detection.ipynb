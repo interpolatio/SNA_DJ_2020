{
 "cells": [
  {
   "cell_type": "markdown",
   "metadata": {},
   "source": [
    "# <center>Social Network Data Analysis</center>"
   ]
  },
  {
   "cell_type": "markdown",
   "metadata": {},
   "source": [
    "Home Assignment #3: Community Detection"
   ]
  },
  {
   "cell_type": "markdown",
   "metadata": {},
   "source": [
    "#### <hr /> General Information"
   ]
  },
  {
   "cell_type": "markdown",
   "metadata": {},
   "source": [
    "**Due Date:** 29.12.2020 18:30 <br>\n",
    "**Late submission policy:** no late submission <br>\n",
    "\n",
    "\n",
    "Please send completed assignments to iakarpov@hse.ru with the following subject: <br>\n",
    "**[HSE SNA UD 2020] *{LastName}* *{First Name}* HW_3*\n",
    "\n",
    "Complete your code with pictures and explanations.\n",
    "If you are using IPython Notebook, you can use this file as a template for your homework.\n",
    "\n",
    "In this homework assignment, you are invited to implement the community detection script to analyse Social Network communication patterns. \n",
    "If your network is too big and takes too much time to compute( > 2000 nodes), use cores algorithm to make it smaller.\n"
   ]
  },
  {
   "cell_type": "markdown",
   "metadata": {},
   "source": [
    "## Problems"
   ]
  },
  {
   "cell_type": "markdown",
   "metadata": {},
   "source": [
    "### Task 1. Network community detection"
   ]
  },
  {
   "cell_type": "markdown",
   "metadata": {},
   "source": [
    "Use any existing network from our [classes](https://api.onedrive.com/v1.0/shares/u!aHR0cHM6Ly8xZHJ2Lm1zL3UvcyFBdldqdXEtLW5zblNrYW9tNTRJRVRCbG1qZ2liLVE_ZT0wNHhDdFQ/root/content) or your couse project.\n"
   ]
  },
  {
   "cell_type": "code",
   "execution_count": null,
   "metadata": {},
   "outputs": [],
   "source": [
    "# Preliminary imports\n",
    "\n",
    "import urllib\n",
    "import networkx as nx\n",
    "from networkx.algorithms import community\n",
    "import matplotlib.pyplot as plt\n",
    "import numpy as np\n",
    "import pandas as pd\n",
    "from tqdm.notebook import tqdm\n",
    "%matplotlib inline\n",
    "\n",
    "from networkx.algorithms.community import greedy_modularity_communities\n",
    "from networkx.algorithms.community import label_propagation_communities"
   ]
  },
  {
   "cell_type": "code",
   "execution_count": null,
   "metadata": {},
   "outputs": [],
   "source": [
    "!wget https://api.onedrive.com/v1.0/shares/u!aHR0cHM6Ly8xZHJ2Lm1zL3UvcyFBdldqdXEtLW5zblNrYW9tNTRJRVRCbG1qZ2liLVE_ZT0wNHhDdFQ/root/content"
   ]
  },
  {
   "cell_type": "markdown",
   "metadata": {},
   "source": [
    "We could use the initial VK network scaled down by a certain k-core but instead, we will use the already scaled down frame of the network for the upcoming tasks constructed previously through seed profile nodes. "
   ]
  },
  {
   "cell_type": "code",
   "execution_count": null,
   "metadata": {},
   "outputs": [],
   "source": [
    "#Loading the VK network frame\n",
    "G = nx.Graph()\n",
    "G = nx.read_gexf('content')\n",
    "\n",
    "print(\"Number of nodes in a graph: \", len(G.nodes()))\n",
    "print(\"Number of edges in a graph: \", len(G.edges()))"
   ]
  },
  {
   "cell_type": "markdown",
   "metadata": {},
   "source": [
    "We will ensure that the graph itself represents a fully connected component."
   ]
  },
  {
   "cell_type": "code",
   "execution_count": null,
   "metadata": {},
   "outputs": [],
   "source": [
    "components = list(nx.connected_components(G))\n",
    "print(\"Number of connected components in a graph: \", len(components))"
   ]
  },
  {
   "cell_type": "markdown",
   "metadata": {},
   "source": [
    "We will visualize the target network marking seed nodes that were used for the resulting network framing with red color. In particular, we are especially interested if the target profiles will be embedded in the resulting set of network communities. \n",
    "\n",
    "Therefore, we initially suggest that there may be **5** communities in the network in accordance with used seed profiles."
   ]
  },
  {
   "cell_type": "code",
   "execution_count": null,
   "metadata": {},
   "outputs": [],
   "source": [
    "plt.figure(figsize=(16, 10))\n",
    "seeds = [\n",
    "    '', # Seed 1\n",
    "    '',  # Seed 2\n",
    "    '', # Seed 3\n",
    "    '',  # Seed 4\n",
    "    '',  # Seed 5\n",
    "]\n",
    "\n",
    "colorMap = []\n",
    "sizes = []\n",
    "labels = {}\n",
    "for node in G:\n",
    "    if node in seeds:\n",
    "        colorMap.append('r')\n",
    "        sizes.append(350)\n",
    "        labels[node] = node\n",
    "    else: \n",
    "        colorMap.append('#1f78b4')\n",
    "        sizes.append(100)\n",
    "        \n",
    "nx.draw_networkx(G, labels=labels, node_color=colorMap, node_size=sizes, width=0.6, font_color = 'r', font_weight='bold')"
   ]
  },
  {
   "cell_type": "code",
   "execution_count": null,
   "metadata": {},
   "outputs": [],
   "source": [
    "#Method to display network communities\n",
    "def showCommunities(G, communities, name):\n",
    "    pos=nx.spring_layout(G)\n",
    "    colors = ['b', 'g', 'r', 'c', 'm', 'y', 'k', 'w', 'b', 'g', 'r', 'c', 'm', 'y', 'k', 'w', 'b', 'g', 'r', 'c', 'm', 'y', 'k', 'w', 'b', 'g', 'r', 'c', 'm', 'y', 'k', 'w']\n",
    "    plt.figure(figsize=(16, 10))\n",
    "    plt.title(name, fontsize=20)\n",
    "    aux = 0\n",
    "    for community in communities:\n",
    "        sizes =[350  if node in seeds else 100 for node in community]\n",
    "        nx.draw_networkx_nodes(G, pos, community, node_size = sizes, node_color = colors[aux])\n",
    "        nx.draw_networkx_labels(G, pos, labels, font_size=16, font_color='r')\n",
    "        aux = aux + 1\n",
    "    nx.draw_networkx_edges(G, pos, alpha=0.5)\n",
    "    plt.show(block=True)"
   ]
  },
  {
   "cell_type": "code",
   "execution_count": null,
   "metadata": {},
   "outputs": [],
   "source": [
    "#Method to calculate greedy modularity communities\n",
    "def getModularityCommunities(G):\n",
    "    communities = community.greedy_modularity_communities(G)\n",
    "    return sorted(map(sorted, communities))\n",
    "\n",
    "#Method to calculate label propagation communities\n",
    "def getLabelPropagationCommunities(G):\n",
    "    communities = label_propagation_communities(G)\n",
    "    return sorted(map(sorted, communities))"
   ]
  },
  {
   "cell_type": "markdown",
   "metadata": {},
   "source": [
    "#### Communities visualization"
   ]
  },
  {
   "cell_type": "markdown",
   "metadata": {},
   "source": [
    "1.1. Using Gephi or [NetworkX](https://networkx.github.io/documentation/stable/reference/algorithms/community.html) implement community detection task, using one of the possible algorithms: modularity, label propagation, girvan newman, louvain <br>\n",
    "1.2. Vizualize your graph in gephi, networkX or grahistry and give a short interpretation <br>"
   ]
  },
  {
   "cell_type": "code",
   "execution_count": null,
   "metadata": {},
   "outputs": [],
   "source": [
    "# implement your code here\n",
    "#showCommunities(G, communities, name=\"Name\")"
   ]
  },
  {
   "cell_type": "code",
   "execution_count": null,
   "metadata": {},
   "outputs": [],
   "source": [
    "# implement your code here\n",
    "#showCommunities(G, communities, name=\"Name\")"
   ]
  },
  {
   "cell_type": "markdown",
   "metadata": {},
   "source": [
    "Write some descriprion of the resulting communities"
   ]
  },
  {
   "cell_type": "code",
   "execution_count": null,
   "metadata": {},
   "outputs": [],
   "source": [
    "# description"
   ]
  },
  {
   "cell_type": "markdown",
   "metadata": {},
   "source": [
    "### Task 2. Clustering\n",
    "\n",
    "2.1. Create affinity matrix using cosine or eucledian distances (see distance.pdist from Assortativity.ipynb) <br>\n",
    "2.2. Get cluster labels using one of the existing clustering algorithms to the affinity matrix (see https://scikit-learn.org/stable/modules/clustering.html) <br>\n",
    "2.3.  Vizualize your graph in gephi, networkX or grahistry and give short interpretation <br>\n",
    "\n",
    "useful advices: <br>\n",
    "use affinity='precomputed' for the clustering algorithm <br>"
   ]
  },
  {
   "cell_type": "code",
   "execution_count": null,
   "metadata": {},
   "outputs": [],
   "source": [
    "# Preliminary imports\n",
    "from sklearn.cluster import AgglomerativeClustering\n",
    "from sklearn.cluster import DBSCAN\n",
    "import scipy.spatial as spt"
   ]
  },
  {
   "cell_type": "markdown",
   "metadata": {},
   "source": [
    "#### 2.1. Affinity Matrix"
   ]
  },
  {
   "cell_type": "markdown",
   "metadata": {},
   "source": [
    "For the task at hand we will reuse the affinity matrix plotting approach introduced on one of the seminars."
   ]
  },
  {
   "cell_type": "code",
   "execution_count": null,
   "metadata": {},
   "outputs": [],
   "source": [
    "#Method to plot affinity matrices\n",
    "def plotDist(A):\n",
    "    \n",
    "    f, ax = plt.subplots(2, 2, figsize=(10,10))\n",
    "    ax[0, 0].imshow(A, cmap = 'Greys', interpolation = 'None')\n",
    "    ax[0, 0].set_title('Adjacency Matrix')\n",
    "    \n",
    "    D = np.corrcoef(A)\n",
    "    ax[1, 0].imshow(D, cmap = 'Greys', interpolation = 'None')\n",
    "    ax[1, 0].set_title('Correlation coeff.')\n",
    "    \n",
    "    dVec = spt.distance.pdist(A, metric = 'euclidean')\n",
    "    D = spt.distance.squareform(dVec)\n",
    "    ax[0, 1].imshow(D, cmap = 'Greys', interpolation = 'None')\n",
    "    ax[0, 1].set_title('Euclidean Dist.')\n",
    "    \n",
    "    dVec = spt.distance.pdist(A, metric = 'cosine')\n",
    "    D = spt.distance.squareform(dVec)\n",
    "    ax[1, 1].imshow(D, cmap = 'Greys', interpolation = 'None')\n",
    "    ax[1, 1].set_title('Cosine Dist.')"
   ]
  },
  {
   "cell_type": "code",
   "execution_count": null,
   "metadata": {},
   "outputs": [],
   "source": [
    "#Plotting matrices\n",
    "A = nx.to_numpy_matrix(G2, dtype=int)\n",
    "A = np.asarray(A)\n",
    "\n",
    "plotDist(A)   "
   ]
  },
  {
   "cell_type": "markdown",
   "metadata": {},
   "source": [
    "Write some descriprion of the resulting matricies"
   ]
  },
  {
   "cell_type": "code",
   "execution_count": null,
   "metadata": {},
   "outputs": [],
   "source": [
    "# description"
   ]
  },
  {
   "cell_type": "markdown",
   "metadata": {},
   "source": [
    "#### 2.3. Clustering"
   ]
  },
  {
   "cell_type": "markdown",
   "metadata": {},
   "source": [
    "After identifying the affinity matrices we can proceed to clustering of the network. Implement 2 clustering algorithms and compare them"
   ]
  },
  {
   "cell_type": "code",
   "execution_count": null,
   "metadata": {},
   "outputs": [],
   "source": [
    "#Compute cosine distances matrix\n",
    "# implement your code here"
   ]
  },
  {
   "cell_type": "code",
   "execution_count": null,
   "metadata": {},
   "outputs": [],
   "source": [
    "#Compute agglomerative clusters\n",
    "\n",
    "# implement your code here\n",
    "\n",
    "plt.figure(figsize=(16, 10))\n",
    "nx.draw_networkx(G2, node_color=clusters, width=0.6, with_labels=False,)"
   ]
  },
  {
   "cell_type": "code",
   "execution_count": null,
   "metadata": {},
   "outputs": [],
   "source": [
    "#Compute DBSCAN clusters\n",
    "\n",
    "# implement your code here\n",
    "\n",
    "\n",
    "plt.figure(figsize=(16, 10))\n",
    "sizes = [300 if clusters[i] >= 0 else 50 for i in range(len(clusters))]\n",
    "nx.draw_networkx(G2, node_color=clusters, node_size=sizes, width=0.6, with_labels=False)"
   ]
  },
  {
   "cell_type": "markdown",
   "metadata": {},
   "source": [
    "Compare clustering results with community detection. Write some descriprion"
   ]
  },
  {
   "cell_type": "code",
   "execution_count": null,
   "metadata": {},
   "outputs": [],
   "source": [
    "# description"
   ]
  },
  {
   "cell_type": "markdown",
   "metadata": {},
   "source": [
    "#### 2.4 Node2Vec"
   ]
  },
  {
   "cell_type": "markdown",
   "metadata": {},
   "source": [
    "Implement random walk and node2vec to get group vectors.\n"
   ]
  },
  {
   "cell_type": "code",
   "execution_count": null,
   "metadata": {},
   "outputs": [],
   "source": [
    "#train model on the new graph\n",
    "\n",
    "#example code\n",
    "#node2vec = Node2Vec(G2, dimensions=128, walk_length=80, num_walks=10, workers=8)\n",
    "#model = node2vec.fit(window=10, min_count=1, batch_words=4)\n",
    "#model.wv.save_word2vec_format(\"friends_model\")\n",
    "#node_embeddings = (model.wv.vectors)"
   ]
  },
  {
   "cell_type": "markdown",
   "metadata": {},
   "source": [
    "optionally use TSNE to reduce dimensions"
   ]
  },
  {
   "cell_type": "code",
   "execution_count": null,
   "metadata": {},
   "outputs": [],
   "source": [
    "#example code\n",
    "#from sklearn.manifold import TSNE\n",
    "#transform = TSNE\n",
    "#trans = transform(n_components=2)\n",
    "#node_embeddings = trans.fit_transform(node_embeddings)"
   ]
  },
  {
   "cell_type": "markdown",
   "metadata": {},
   "source": [
    "implement clustering to get clusters from N2V vectors"
   ]
  },
  {
   "cell_type": "code",
   "execution_count": null,
   "metadata": {},
   "outputs": [],
   "source": [
    "# put your code here"
   ]
  },
  {
   "cell_type": "markdown",
   "metadata": {},
   "source": [
    "Compare N2V with basic clustering and community detection. Write some descriprion"
   ]
  },
  {
   "cell_type": "code",
   "execution_count": null,
   "metadata": {},
   "outputs": [],
   "source": [
    "# description"
   ]
  }
 ],
 "metadata": {
  "kernelspec": {
   "display_name": "Python 3",
   "language": "python",
   "name": "python3"
  },
  "language_info": {
   "codemirror_mode": {
    "name": "ipython",
    "version": 3
   },
   "file_extension": ".py",
   "mimetype": "text/x-python",
   "name": "python",
   "nbconvert_exporter": "python",
   "pygments_lexer": "ipython3",
   "version": "3.6.8"
  }
 },
 "nbformat": 4,
 "nbformat_minor": 2
}
